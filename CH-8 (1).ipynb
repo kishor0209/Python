{
 "cells": [
  {
   "cell_type": "markdown",
   "metadata": {},
   "source": [
    "# 8. Socket, API, Web browsing"
   ]
  },
  {
   "cell_type": "markdown",
   "metadata": {},
   "source": [
    "# Socket :"
   ]
  },
  {
   "cell_type": "code",
   "execution_count": 1,
   "metadata": {},
   "outputs": [],
   "source": [
    "import socket "
   ]
  },
  {
   "cell_type": "code",
   "execution_count": 2,
   "metadata": {},
   "outputs": [
    {
     "data": {
      "text/plain": [
       "['AF_APPLETALK',\n",
       " 'AF_DECnet',\n",
       " 'AF_INET',\n",
       " 'AF_INET6',\n",
       " 'AF_IPX',\n",
       " 'AF_IRDA',\n",
       " 'AF_SNA',\n",
       " 'AF_UNSPEC',\n",
       " 'AI_ADDRCONFIG',\n",
       " 'AI_ALL',\n",
       " 'AI_CANONNAME',\n",
       " 'AI_NUMERICHOST',\n",
       " 'AI_NUMERICSERV',\n",
       " 'AI_PASSIVE',\n",
       " 'AI_V4MAPPED',\n",
       " 'AddressFamily',\n",
       " 'AddressInfo',\n",
       " 'CAPI',\n",
       " 'EAGAIN',\n",
       " 'EAI_AGAIN',\n",
       " 'EAI_BADFLAGS',\n",
       " 'EAI_FAIL',\n",
       " 'EAI_FAMILY',\n",
       " 'EAI_MEMORY',\n",
       " 'EAI_NODATA',\n",
       " 'EAI_NONAME',\n",
       " 'EAI_SERVICE',\n",
       " 'EAI_SOCKTYPE',\n",
       " 'EBADF',\n",
       " 'EWOULDBLOCK',\n",
       " 'INADDR_ALLHOSTS_GROUP',\n",
       " 'INADDR_ANY',\n",
       " 'INADDR_BROADCAST',\n",
       " 'INADDR_LOOPBACK',\n",
       " 'INADDR_MAX_LOCAL_GROUP',\n",
       " 'INADDR_NONE',\n",
       " 'INADDR_UNSPEC_GROUP',\n",
       " 'IPPORT_RESERVED',\n",
       " 'IPPORT_USERRESERVED',\n",
       " 'IPPROTO_AH',\n",
       " 'IPPROTO_CBT',\n",
       " 'IPPROTO_DSTOPTS',\n",
       " 'IPPROTO_EGP',\n",
       " 'IPPROTO_ESP',\n",
       " 'IPPROTO_FRAGMENT',\n",
       " 'IPPROTO_GGP',\n",
       " 'IPPROTO_HOPOPTS',\n",
       " 'IPPROTO_ICLFXBM',\n",
       " 'IPPROTO_ICMP',\n",
       " 'IPPROTO_ICMPV6',\n",
       " 'IPPROTO_IDP',\n",
       " 'IPPROTO_IGMP',\n",
       " 'IPPROTO_IGP',\n",
       " 'IPPROTO_IP',\n",
       " 'IPPROTO_IPV4',\n",
       " 'IPPROTO_IPV6',\n",
       " 'IPPROTO_L2TP',\n",
       " 'IPPROTO_MAX',\n",
       " 'IPPROTO_ND',\n",
       " 'IPPROTO_NONE',\n",
       " 'IPPROTO_PGM',\n",
       " 'IPPROTO_PIM',\n",
       " 'IPPROTO_PUP',\n",
       " 'IPPROTO_RAW',\n",
       " 'IPPROTO_RDP',\n",
       " 'IPPROTO_ROUTING',\n",
       " 'IPPROTO_SCTP',\n",
       " 'IPPROTO_ST',\n",
       " 'IPPROTO_TCP',\n",
       " 'IPPROTO_UDP',\n",
       " 'IPV6_CHECKSUM',\n",
       " 'IPV6_DONTFRAG',\n",
       " 'IPV6_HOPLIMIT',\n",
       " 'IPV6_HOPOPTS',\n",
       " 'IPV6_JOIN_GROUP',\n",
       " 'IPV6_LEAVE_GROUP',\n",
       " 'IPV6_MULTICAST_HOPS',\n",
       " 'IPV6_MULTICAST_IF',\n",
       " 'IPV6_MULTICAST_LOOP',\n",
       " 'IPV6_PKTINFO',\n",
       " 'IPV6_RECVRTHDR',\n",
       " 'IPV6_RECVTCLASS',\n",
       " 'IPV6_RTHDR',\n",
       " 'IPV6_TCLASS',\n",
       " 'IPV6_UNICAST_HOPS',\n",
       " 'IPV6_V6ONLY',\n",
       " 'IP_ADD_MEMBERSHIP',\n",
       " 'IP_DROP_MEMBERSHIP',\n",
       " 'IP_HDRINCL',\n",
       " 'IP_MULTICAST_IF',\n",
       " 'IP_MULTICAST_LOOP',\n",
       " 'IP_MULTICAST_TTL',\n",
       " 'IP_OPTIONS',\n",
       " 'IP_RECVDSTADDR',\n",
       " 'IP_TOS',\n",
       " 'IP_TTL',\n",
       " 'IntEnum',\n",
       " 'IntFlag',\n",
       " 'MSG_BCAST',\n",
       " 'MSG_CTRUNC',\n",
       " 'MSG_DONTROUTE',\n",
       " 'MSG_ERRQUEUE',\n",
       " 'MSG_MCAST',\n",
       " 'MSG_OOB',\n",
       " 'MSG_PEEK',\n",
       " 'MSG_TRUNC',\n",
       " 'MSG_WAITALL',\n",
       " 'MsgFlag',\n",
       " 'NI_DGRAM',\n",
       " 'NI_MAXHOST',\n",
       " 'NI_MAXSERV',\n",
       " 'NI_NAMEREQD',\n",
       " 'NI_NOFQDN',\n",
       " 'NI_NUMERICHOST',\n",
       " 'NI_NUMERICSERV',\n",
       " 'RCVALL_MAX',\n",
       " 'RCVALL_OFF',\n",
       " 'RCVALL_ON',\n",
       " 'RCVALL_SOCKETLEVELONLY',\n",
       " 'SHUT_RD',\n",
       " 'SHUT_RDWR',\n",
       " 'SHUT_WR',\n",
       " 'SIO_KEEPALIVE_VALS',\n",
       " 'SIO_LOOPBACK_FAST_PATH',\n",
       " 'SIO_RCVALL',\n",
       " 'SOCK_DGRAM',\n",
       " 'SOCK_RAW',\n",
       " 'SOCK_RDM',\n",
       " 'SOCK_SEQPACKET',\n",
       " 'SOCK_STREAM',\n",
       " 'SOL_IP',\n",
       " 'SOL_SOCKET',\n",
       " 'SOL_TCP',\n",
       " 'SOL_UDP',\n",
       " 'SOMAXCONN',\n",
       " 'SO_ACCEPTCONN',\n",
       " 'SO_BROADCAST',\n",
       " 'SO_DEBUG',\n",
       " 'SO_DONTROUTE',\n",
       " 'SO_ERROR',\n",
       " 'SO_EXCLUSIVEADDRUSE',\n",
       " 'SO_KEEPALIVE',\n",
       " 'SO_LINGER',\n",
       " 'SO_OOBINLINE',\n",
       " 'SO_RCVBUF',\n",
       " 'SO_RCVLOWAT',\n",
       " 'SO_RCVTIMEO',\n",
       " 'SO_REUSEADDR',\n",
       " 'SO_SNDBUF',\n",
       " 'SO_SNDLOWAT',\n",
       " 'SO_SNDTIMEO',\n",
       " 'SO_TYPE',\n",
       " 'SO_USELOOPBACK',\n",
       " 'SocketIO',\n",
       " 'SocketKind',\n",
       " 'SocketType',\n",
       " 'TCP_FASTOPEN',\n",
       " 'TCP_KEEPCNT',\n",
       " 'TCP_KEEPIDLE',\n",
       " 'TCP_KEEPINTVL',\n",
       " 'TCP_MAXSEG',\n",
       " 'TCP_NODELAY',\n",
       " '_GLOBAL_DEFAULT_TIMEOUT',\n",
       " '_GiveupOnSendfile',\n",
       " '_LOCALHOST',\n",
       " '_LOCALHOST_V6',\n",
       " '__all__',\n",
       " '__builtins__',\n",
       " '__cached__',\n",
       " '__doc__',\n",
       " '__file__',\n",
       " '__loader__',\n",
       " '__name__',\n",
       " '__package__',\n",
       " '__spec__',\n",
       " '_blocking_errnos',\n",
       " '_intenum_converter',\n",
       " '_realsocket',\n",
       " '_socket',\n",
       " 'close',\n",
       " 'create_connection',\n",
       " 'create_server',\n",
       " 'dup',\n",
       " 'errno',\n",
       " 'error',\n",
       " 'errorTab',\n",
       " 'fromfd',\n",
       " 'fromshare',\n",
       " 'gaierror',\n",
       " 'getaddrinfo',\n",
       " 'getdefaulttimeout',\n",
       " 'getfqdn',\n",
       " 'gethostbyaddr',\n",
       " 'gethostbyname',\n",
       " 'gethostbyname_ex',\n",
       " 'gethostname',\n",
       " 'getnameinfo',\n",
       " 'getprotobyname',\n",
       " 'getservbyname',\n",
       " 'getservbyport',\n",
       " 'has_dualstack_ipv6',\n",
       " 'has_ipv6',\n",
       " 'herror',\n",
       " 'htonl',\n",
       " 'htons',\n",
       " 'if_indextoname',\n",
       " 'if_nameindex',\n",
       " 'if_nametoindex',\n",
       " 'inet_aton',\n",
       " 'inet_ntoa',\n",
       " 'inet_ntop',\n",
       " 'inet_pton',\n",
       " 'io',\n",
       " 'ntohl',\n",
       " 'ntohs',\n",
       " 'os',\n",
       " 'selectors',\n",
       " 'setdefaulttimeout',\n",
       " 'socket',\n",
       " 'socketpair',\n",
       " 'sys',\n",
       " 'timeout']"
      ]
     },
     "execution_count": 2,
     "metadata": {},
     "output_type": "execute_result"
    }
   ],
   "source": [
    "dir(socket)"
   ]
  },
  {
   "cell_type": "code",
   "execution_count": 3,
   "metadata": {},
   "outputs": [
    {
     "name": "stdout",
     "output_type": "stream",
     "text": [
      "406-6-198\n"
     ]
    }
   ],
   "source": [
    "hostname=socket.gethostname()\n",
    "print(hostname)"
   ]
  },
  {
   "cell_type": "code",
   "execution_count": 4,
   "metadata": {},
   "outputs": [
    {
     "name": "stdout",
     "output_type": "stream",
     "text": [
      "192.168.104.198\n"
     ]
    }
   ],
   "source": [
    "ip_address=socket.gethostbyname(hostname)\n",
    "print(ip_address)"
   ]
  },
  {
   "cell_type": "raw",
   "metadata": {},
   "source": [
    "socket:\n",
    "    1. TCP:\n",
    "        -STREAM Protocol / Transmission Control Protocol\n",
    "        -with connection\n",
    "        -More reliable/accurate (Only one at a time)\n",
    "        \n",
    "        1) socket()\n",
    "        2) bind(),(ip,port)\n",
    "        3) Listen()\n",
    "        4) accept()\n",
    "        5) send()\n",
    "        6) recv()\n",
    "        7) close()\n",
    "        \n",
    "    2. UDP:\n",
    "        -User Datagram Protocol\n",
    "        -connection less\n",
    "        -Less reliable (Multiple at a time)\n",
    "        \n",
    "        1) socket()\n",
    "        2) bind(),(ip,port)\n",
    "        3) sendto()\n",
    "        4) recvfrom()\n",
    "        5) close()"
   ]
  },
  {
   "cell_type": "raw",
   "metadata": {},
   "source": [
    "step of server and client side program for TCP connection\n",
    "\n",
    "SERVER                CLIENT\n",
    "socket()              socket()\n",
    "bind()\n",
    "listen()\n",
    "accept()              connect() \n",
    "recv()                 send()  \n",
    "send()                 recv()\n",
    "close()                close()  \n",
    "\n",
    "step of server and client side program for UDP connection\n",
    "\n",
    "SERVER                CLIENT\n",
    "socket()              socket()\n",
    "bind()\n",
    "recvfrom()            sendto()  \n",
    "sendto()              recvfrom()\n",
    "close()               close()   "
   ]
  },
  {
   "cell_type": "markdown",
   "metadata": {},
   "source": [
    "# Write down a python program for TCP client and server connection"
   ]
  },
  {
   "cell_type": "code",
   "execution_count": 14,
   "metadata": {},
   "outputs": [
    {
     "name": "stdout",
     "output_type": "stream",
     "text": [
      "Overwriting TCP_server_268.py\n"
     ]
    }
   ],
   "source": [
    "%%writefile TCP_server_268.py\n",
    "import socket\n",
    "host=socket.gethostname()\n",
    "port=2000\n",
    "Addr=(host,port)\n",
    "socket_server=socket.socket()\n",
    "socket_server.bind(Addr)\n",
    "socket_server.listen()\n",
    "msg,addr=socket_server.accept()\n",
    "print(\"connection from:\",addr)\n",
    "while True:\n",
    "    data=msg.recv(1024).decode()\n",
    "    if data==\"\":\n",
    "        break\n",
    "    print(data)\n",
    "    reply=input(\"->\")\n",
    "    msg.send(reply.encode())\n",
    "msg.close()    "
   ]
  },
  {
   "cell_type": "code",
   "execution_count": 17,
   "metadata": {},
   "outputs": [
    {
     "name": "stdout",
     "output_type": "stream",
     "text": [
      "Overwriting TCP_client_268.py\n"
     ]
    }
   ],
   "source": [
    "%%writefile TCP_client_268.py\n",
    "import socket\n",
    "host=socket.gethostname()\n",
    "port=2000\n",
    "Addr=(host,port)\n",
    "socket_client=socket.socket()\n",
    "socket_client.connect(Addr)\n",
    "message=input(\"->\")\n",
    "while message !=\"\":\n",
    "    socket_client.send(message.encode())\n",
    "    response=socket_client.recv(1024).decode()\n",
    "    print(response)\n",
    "    message=input(\"->\")\n",
    "socket_client.close()    "
   ]
  },
  {
   "cell_type": "code",
   "execution_count": 13,
   "metadata": {},
   "outputs": [
    {
     "data": {
      "text/plain": [
       "'C:\\\\Users\\\\LJENG'"
      ]
     },
     "execution_count": 13,
     "metadata": {},
     "output_type": "execute_result"
    }
   ],
   "source": [
    "pwd"
   ]
  },
  {
   "cell_type": "code",
   "execution_count": null,
   "metadata": {},
   "outputs": [],
   "source": []
  }
 ],
 "metadata": {
  "kernelspec": {
   "display_name": "Python 3",
   "language": "python",
   "name": "python3"
  },
  "language_info": {
   "codemirror_mode": {
    "name": "ipython",
    "version": 3
   },
   "file_extension": ".py",
   "mimetype": "text/x-python",
   "name": "python",
   "nbconvert_exporter": "python",
   "pygments_lexer": "ipython3",
   "version": "3.8.5"
  }
 },
 "nbformat": 4,
 "nbformat_minor": 4
}
